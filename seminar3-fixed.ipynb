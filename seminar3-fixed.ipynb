{
 "cells": [
  {
   "cell_type": "code",
   "execution_count": 1,
   "id": "burning-fifth",
   "metadata": {},
   "outputs": [
    {
     "name": "stdout",
     "output_type": "stream",
     "text": [
      "Hello! Let us start the third seminar!\n"
     ]
    }
   ],
   "source": [
    "print(\"Hello! Let us start the third seminar!\")"
   ]
  },
  {
   "cell_type": "code",
   "execution_count": 2,
   "id": "passing-bryan",
   "metadata": {},
   "outputs": [
    {
     "name": "stdout",
     "output_type": "stream",
     "text": [
      "Семинар №3, группа м201\n"
     ]
    }
   ],
   "source": [
    "print(\"Семинар №3, группа м201\")"
   ]
  },
  {
   "cell_type": "code",
   "execution_count": 3,
   "id": "developing-still",
   "metadata": {},
   "outputs": [],
   "source": [
    "animals = [\"жираф\", \"слон\", \"верблюд\", \"носорог\"]"
   ]
  },
  {
   "cell_type": "code",
   "execution_count": 4,
   "id": "angry-fundamental",
   "metadata": {},
   "outputs": [
    {
     "data": {
      "text/plain": [
       "['жираф', 'слон', 'верблюд', 'носорог']"
      ]
     },
     "execution_count": 4,
     "metadata": {},
     "output_type": "execute_result"
    }
   ],
   "source": [
    "animals"
   ]
  },
  {
   "cell_type": "code",
   "execution_count": 5,
   "id": "neither-lambda",
   "metadata": {},
   "outputs": [
    {
     "data": {
      "text/plain": [
       "list"
      ]
     },
     "execution_count": 5,
     "metadata": {},
     "output_type": "execute_result"
    }
   ],
   "source": [
    "type(animals)"
   ]
  },
  {
   "cell_type": "code",
   "execution_count": 6,
   "id": "western-atlantic",
   "metadata": {},
   "outputs": [],
   "source": [
    "numbers=[0,1,2,3,4,5,6,7,8,9]"
   ]
  },
  {
   "cell_type": "code",
   "execution_count": 7,
   "id": "compatible-czech",
   "metadata": {},
   "outputs": [
    {
     "data": {
      "text/plain": [
       "[0, 1, 2, 3, 4, 5, 6, 7, 8, 9]"
      ]
     },
     "execution_count": 7,
     "metadata": {},
     "output_type": "execute_result"
    }
   ],
   "source": [
    "numbers"
   ]
  },
  {
   "cell_type": "code",
   "execution_count": 8,
   "id": "multiple-printing",
   "metadata": {},
   "outputs": [],
   "source": [
    "mixed=[10,-0.75,\"жираф\",75]"
   ]
  },
  {
   "cell_type": "code",
   "execution_count": 9,
   "id": "retained-briefs",
   "metadata": {},
   "outputs": [
    {
     "data": {
      "text/plain": [
       "list"
      ]
     },
     "execution_count": 9,
     "metadata": {},
     "output_type": "execute_result"
    }
   ],
   "source": [
    "type(mixed)"
   ]
  },
  {
   "cell_type": "code",
   "execution_count": 10,
   "id": "desperate-decimal",
   "metadata": {},
   "outputs": [
    {
     "data": {
      "text/plain": [
       "'верблюд'"
      ]
     },
     "execution_count": 10,
     "metadata": {},
     "output_type": "execute_result"
    }
   ],
   "source": [
    "animals[2]"
   ]
  },
  {
   "cell_type": "code",
   "execution_count": 11,
   "id": "consolidated-tragedy",
   "metadata": {},
   "outputs": [
    {
     "data": {
      "text/plain": [
       "7"
      ]
     },
     "execution_count": 11,
     "metadata": {},
     "output_type": "execute_result"
    }
   ],
   "source": [
    "numbers[7]"
   ]
  },
  {
   "cell_type": "code",
   "execution_count": 12,
   "id": "external-welding",
   "metadata": {},
   "outputs": [],
   "source": [
    "numbers = [1,2,3,4,5,6,7,8,9]"
   ]
  },
  {
   "cell_type": "code",
   "execution_count": 13,
   "id": "breathing-lotus",
   "metadata": {},
   "outputs": [
    {
     "data": {
      "text/plain": [
       "8"
      ]
     },
     "execution_count": 13,
     "metadata": {},
     "output_type": "execute_result"
    }
   ],
   "source": [
    "numbers[7]"
   ]
  },
  {
   "cell_type": "code",
   "execution_count": 14,
   "id": "separated-palestinian",
   "metadata": {},
   "outputs": [
    {
     "data": {
      "text/plain": [
       "75"
      ]
     },
     "execution_count": 14,
     "metadata": {},
     "output_type": "execute_result"
    }
   ],
   "source": [
    "mixed[3]"
   ]
  },
  {
   "cell_type": "code",
   "execution_count": 15,
   "id": "protecting-sewing",
   "metadata": {},
   "outputs": [
    {
     "data": {
      "text/plain": [
       "-0.75"
      ]
     },
     "execution_count": 15,
     "metadata": {},
     "output_type": "execute_result"
    }
   ],
   "source": [
    "mixed[-3]"
   ]
  },
  {
   "cell_type": "code",
   "execution_count": 16,
   "id": "japanese-energy",
   "metadata": {},
   "outputs": [
    {
     "data": {
      "text/plain": [
       "16"
      ]
     },
     "execution_count": 16,
     "metadata": {},
     "output_type": "execute_result"
    }
   ],
   "source": [
    "numbers[5]+mixed[-4]"
   ]
  },
  {
   "cell_type": "code",
   "execution_count": 17,
   "id": "blessed-blood",
   "metadata": {},
   "outputs": [],
   "source": [
    "a=5"
   ]
  },
  {
   "cell_type": "code",
   "execution_count": 18,
   "id": "closing-contamination",
   "metadata": {},
   "outputs": [
    {
     "data": {
      "text/plain": [
       "int"
      ]
     },
     "execution_count": 18,
     "metadata": {},
     "output_type": "execute_result"
    }
   ],
   "source": [
    "type(a)"
   ]
  },
  {
   "cell_type": "code",
   "execution_count": 19,
   "id": "universal-party",
   "metadata": {},
   "outputs": [],
   "source": [
    "b=7.7"
   ]
  },
  {
   "cell_type": "code",
   "execution_count": 20,
   "id": "trained-truck",
   "metadata": {},
   "outputs": [],
   "source": [
    "c=\"nine\""
   ]
  },
  {
   "cell_type": "code",
   "execution_count": 21,
   "id": "adequate-prize",
   "metadata": {},
   "outputs": [
    {
     "data": {
      "text/plain": [
       "['жираф', 'слон', 'верблюд', 'носорог', 1, 2, 3, 4, 5, 6, 7, 8, 9]"
      ]
     },
     "execution_count": 21,
     "metadata": {},
     "output_type": "execute_result"
    }
   ],
   "source": [
    "animals+numbers"
   ]
  },
  {
   "cell_type": "code",
   "execution_count": 24,
   "id": "trying-aircraft",
   "metadata": {},
   "outputs": [
    {
     "data": {
      "text/plain": [
       "int"
      ]
     },
     "execution_count": 24,
     "metadata": {},
     "output_type": "execute_result"
    }
   ],
   "source": [
    "type(a)"
   ]
  },
  {
   "cell_type": "code",
   "execution_count": 23,
   "id": "junior-calgary",
   "metadata": {},
   "outputs": [
    {
     "data": {
      "text/plain": [
       "float"
      ]
     },
     "execution_count": 23,
     "metadata": {},
     "output_type": "execute_result"
    }
   ],
   "source": [
    "type(b)"
   ]
  },
  {
   "cell_type": "code",
   "execution_count": 25,
   "id": "abandoned-tennis",
   "metadata": {},
   "outputs": [
    {
     "data": {
      "text/plain": [
       "str"
      ]
     },
     "execution_count": 25,
     "metadata": {},
     "output_type": "execute_result"
    }
   ],
   "source": [
    "type(c)"
   ]
  },
  {
   "cell_type": "code",
   "execution_count": 26,
   "id": "seventh-synthesis",
   "metadata": {},
   "outputs": [
    {
     "data": {
      "text/plain": [
       "'5'"
      ]
     },
     "execution_count": 26,
     "metadata": {},
     "output_type": "execute_result"
    }
   ],
   "source": [
    "str(a)"
   ]
  },
  {
   "cell_type": "code",
   "execution_count": 27,
   "id": "recreational-banner",
   "metadata": {},
   "outputs": [
    {
     "data": {
      "text/plain": [
       "'слон2'"
      ]
     },
     "execution_count": 27,
     "metadata": {},
     "output_type": "execute_result"
    }
   ],
   "source": [
    "animals[1]+str(numbers[1])"
   ]
  },
  {
   "cell_type": "code",
   "execution_count": 28,
   "id": "prerequisite-journalist",
   "metadata": {},
   "outputs": [],
   "source": [
    "zoo=[animals, numbers, mixed]"
   ]
  },
  {
   "cell_type": "code",
   "execution_count": 29,
   "id": "passive-tribute",
   "metadata": {},
   "outputs": [
    {
     "data": {
      "text/plain": [
       "[['жираф', 'слон', 'верблюд', 'носорог'],\n",
       " [1, 2, 3, 4, 5, 6, 7, 8, 9],\n",
       " [10, -0.75, 'жираф', 75]]"
      ]
     },
     "execution_count": 29,
     "metadata": {},
     "output_type": "execute_result"
    }
   ],
   "source": [
    "zoo"
   ]
  },
  {
   "cell_type": "code",
   "execution_count": 30,
   "id": "consecutive-michigan",
   "metadata": {},
   "outputs": [],
   "source": [
    "zoo=[animals, numbers, mixed, 10, 20.0, \"енот\"]"
   ]
  },
  {
   "cell_type": "code",
   "execution_count": 31,
   "id": "friendly-yellow",
   "metadata": {},
   "outputs": [
    {
     "data": {
      "text/plain": [
       "[['жираф', 'слон', 'верблюд', 'носорог'],\n",
       " [1, 2, 3, 4, 5, 6, 7, 8, 9],\n",
       " [10, -0.75, 'жираф', 75],\n",
       " 10,\n",
       " 20.0,\n",
       " 'енот']"
      ]
     },
     "execution_count": 31,
     "metadata": {},
     "output_type": "execute_result"
    }
   ],
   "source": [
    "zoo"
   ]
  },
  {
   "cell_type": "code",
   "execution_count": 32,
   "id": "least-documentary",
   "metadata": {},
   "outputs": [
    {
     "data": {
      "text/plain": [
       "'верблюд'"
      ]
     },
     "execution_count": 32,
     "metadata": {},
     "output_type": "execute_result"
    }
   ],
   "source": [
    "zoo[0][2]"
   ]
  },
  {
   "cell_type": "code",
   "execution_count": 33,
   "id": "massive-portsmouth",
   "metadata": {},
   "outputs": [
    {
     "data": {
      "text/plain": [
       "'жираф'"
      ]
     },
     "execution_count": 33,
     "metadata": {},
     "output_type": "execute_result"
    }
   ],
   "source": [
    "zoo[-4][2]"
   ]
  },
  {
   "cell_type": "code",
   "execution_count": 35,
   "id": "acquired-empire",
   "metadata": {},
   "outputs": [
    {
     "data": {
      "text/plain": [
       "3"
      ]
     },
     "execution_count": 35,
     "metadata": {},
     "output_type": "execute_result"
    }
   ],
   "source": [
    "zoo[-5][2]"
   ]
  },
  {
   "cell_type": "code",
   "execution_count": 36,
   "id": "following-influence",
   "metadata": {},
   "outputs": [
    {
     "data": {
      "text/plain": [
       "'слон'"
      ]
     },
     "execution_count": 36,
     "metadata": {},
     "output_type": "execute_result"
    }
   ],
   "source": [
    "zoo[-6][1]"
   ]
  },
  {
   "cell_type": "code",
   "execution_count": 37,
   "id": "educated-tradition",
   "metadata": {},
   "outputs": [
    {
     "data": {
      "text/plain": [
       "'жираф75'"
      ]
     },
     "execution_count": 37,
     "metadata": {},
     "output_type": "execute_result"
    }
   ],
   "source": [
    "zoo[-4][2] + str(mixed[3])"
   ]
  },
  {
   "cell_type": "code",
   "execution_count": 39,
   "id": "variable-alfred",
   "metadata": {},
   "outputs": [
    {
     "data": {
      "text/plain": [
       "'жираф 75'"
      ]
     },
     "execution_count": 39,
     "metadata": {},
     "output_type": "execute_result"
    }
   ],
   "source": [
    "zoo[-4][2] + \" \" + str(mixed[3])"
   ]
  },
  {
   "cell_type": "code",
   "execution_count": 41,
   "id": "severe-blowing",
   "metadata": {},
   "outputs": [],
   "source": [
    "abc = zoo[-4][2] + \" \" + str(mixed[3])"
   ]
  },
  {
   "cell_type": "code",
   "execution_count": 42,
   "id": "strong-hello",
   "metadata": {},
   "outputs": [
    {
     "data": {
      "text/plain": [
       "'жираф 75'"
      ]
     },
     "execution_count": 42,
     "metadata": {},
     "output_type": "execute_result"
    }
   ],
   "source": [
    "abc"
   ]
  },
  {
   "cell_type": "code",
   "execution_count": 43,
   "id": "forty-minnesota",
   "metadata": {},
   "outputs": [
    {
     "data": {
      "text/plain": [
       "str"
      ]
     },
     "execution_count": 43,
     "metadata": {},
     "output_type": "execute_result"
    }
   ],
   "source": [
    "type(abc)"
   ]
  },
  {
   "cell_type": "code",
   "execution_count": 44,
   "id": "favorite-merchandise",
   "metadata": {},
   "outputs": [],
   "source": [
    "matrix = [[1,0,0], [0,1,0], [0,0,1]]"
   ]
  },
  {
   "cell_type": "code",
   "execution_count": 45,
   "id": "thrown-retail",
   "metadata": {},
   "outputs": [
    {
     "data": {
      "text/plain": [
       "[[1, 0, 0], [0, 1, 0], [0, 0, 1]]"
      ]
     },
     "execution_count": 45,
     "metadata": {},
     "output_type": "execute_result"
    }
   ],
   "source": [
    "matrix"
   ]
  },
  {
   "cell_type": "code",
   "execution_count": 46,
   "id": "smaller-prophet",
   "metadata": {},
   "outputs": [
    {
     "data": {
      "text/plain": [
       "['жираф', 'слон', 'верблюд', 'носорог', 'жираф', 'слон', 'верблюд', 'носорог']"
      ]
     },
     "execution_count": 46,
     "metadata": {},
     "output_type": "execute_result"
    }
   ],
   "source": [
    "animals+animals"
   ]
  },
  {
   "cell_type": "code",
   "execution_count": 47,
   "id": "fiscal-birthday",
   "metadata": {},
   "outputs": [
    {
     "data": {
      "text/plain": [
       "[['жираф', 'слон', 'верблюд', 'носорог'], 'антилопа']"
      ]
     },
     "execution_count": 47,
     "metadata": {},
     "output_type": "execute_result"
    }
   ],
   "source": [
    "[animals]+[\"антилопа\"]"
   ]
  },
  {
   "cell_type": "code",
   "execution_count": 49,
   "id": "streaming-picnic",
   "metadata": {},
   "outputs": [
    {
     "data": {
      "text/plain": [
       "['жираф', 'слон', 'верблюд', 'носорог', 'антилопа']"
      ]
     },
     "execution_count": 49,
     "metadata": {},
     "output_type": "execute_result"
    }
   ],
   "source": [
    "animals + [\"антилопа\"]"
   ]
  },
  {
   "cell_type": "code",
   "execution_count": 50,
   "id": "suburban-central",
   "metadata": {},
   "outputs": [],
   "source": [
    "animals.append(\"обезьяна\")"
   ]
  },
  {
   "cell_type": "code",
   "execution_count": 52,
   "id": "empty-channels",
   "metadata": {},
   "outputs": [
    {
     "data": {
      "text/plain": [
       "['жираф', 'слон', 'верблюд', 'носорог', 'обезьяна']"
      ]
     },
     "execution_count": 52,
     "metadata": {},
     "output_type": "execute_result"
    }
   ],
   "source": [
    "animals"
   ]
  },
  {
   "cell_type": "code",
   "execution_count": 53,
   "id": "convenient-distinction",
   "metadata": {},
   "outputs": [
    {
     "data": {
      "text/plain": [
       "['жираф', 'слон', 'верблюд', 'носорог', 'обезьяна']"
      ]
     },
     "execution_count": 53,
     "metadata": {},
     "output_type": "execute_result"
    }
   ],
   "source": [
    "animals"
   ]
  },
  {
   "cell_type": "code",
   "execution_count": 54,
   "id": "deadly-nirvana",
   "metadata": {},
   "outputs": [],
   "source": [
    "animals.append(\"антилопа\")"
   ]
  },
  {
   "cell_type": "code",
   "execution_count": 55,
   "id": "close-dynamics",
   "metadata": {},
   "outputs": [
    {
     "data": {
      "text/plain": [
       "['жираф', 'слон', 'верблюд', 'носорог', 'обезьяна', 'антилопа']"
      ]
     },
     "execution_count": 55,
     "metadata": {},
     "output_type": "execute_result"
    }
   ],
   "source": [
    "animals"
   ]
  },
  {
   "cell_type": "code",
   "execution_count": 56,
   "id": "outstanding-characterization",
   "metadata": {},
   "outputs": [
    {
     "data": {
      "text/plain": [
       "'слон'"
      ]
     },
     "execution_count": 56,
     "metadata": {},
     "output_type": "execute_result"
    }
   ],
   "source": [
    "animals[1]"
   ]
  },
  {
   "cell_type": "code",
   "execution_count": 57,
   "id": "supreme-college",
   "metadata": {},
   "outputs": [
    {
     "data": {
      "text/plain": [
       "['жираф', 'слон', 'верблюд', 'носорог', 'обезьяна']"
      ]
     },
     "execution_count": 57,
     "metadata": {},
     "output_type": "execute_result"
    }
   ],
   "source": [
    "animals[0:5]"
   ]
  },
  {
   "cell_type": "code",
   "execution_count": 58,
   "id": "classical-protein",
   "metadata": {},
   "outputs": [
    {
     "data": {
      "text/plain": [
       "['слон', 'верблюд']"
      ]
     },
     "execution_count": 58,
     "metadata": {},
     "output_type": "execute_result"
    }
   ],
   "source": [
    "animals[1:3]"
   ]
  },
  {
   "cell_type": "code",
   "execution_count": 60,
   "id": "simple-choir",
   "metadata": {},
   "outputs": [
    {
     "data": {
      "text/plain": [
       "['верблюд', 'носорог']"
      ]
     },
     "execution_count": 60,
     "metadata": {},
     "output_type": "execute_result"
    }
   ],
   "source": [
    "animals[2:4]"
   ]
  },
  {
   "cell_type": "code",
   "execution_count": 63,
   "id": "sufficient-exhibit",
   "metadata": {},
   "outputs": [
    {
     "data": {
      "text/plain": [
       "['жираф', 'слон', 'верблюд', 'носорог', 'обезьяна']"
      ]
     },
     "execution_count": 63,
     "metadata": {},
     "output_type": "execute_result"
    }
   ],
   "source": [
    "animals[0:-1]"
   ]
  },
  {
   "cell_type": "code",
   "execution_count": 65,
   "id": "expanded-shepherd",
   "metadata": {},
   "outputs": [
    {
     "data": {
      "text/plain": [
       "['жираф', 'слон', 'верблюд', 'носорог']"
      ]
     },
     "execution_count": 65,
     "metadata": {},
     "output_type": "execute_result"
    }
   ],
   "source": [
    "animals[0:-2]"
   ]
  },
  {
   "cell_type": "code",
   "execution_count": 68,
   "id": "alert-mapping",
   "metadata": {},
   "outputs": [],
   "source": [
    "animals = animals[0:2]+animals[3:5]"
   ]
  },
  {
   "cell_type": "code",
   "execution_count": 69,
   "id": "designing-stuff",
   "metadata": {},
   "outputs": [
    {
     "data": {
      "text/plain": [
       "['жираф', 'слон', 'носорог', 'обезьяна']"
      ]
     },
     "execution_count": 69,
     "metadata": {},
     "output_type": "execute_result"
    }
   ],
   "source": [
    "animals"
   ]
  },
  {
   "cell_type": "code",
   "execution_count": 70,
   "id": "composite-wages",
   "metadata": {},
   "outputs": [
    {
     "data": {
      "text/plain": [
       "['жираф', 'слон', 'верблюд', 'носорог', 'обезьяна']"
      ]
     },
     "execution_count": 70,
     "metadata": {},
     "output_type": "execute_result"
    }
   ],
   "source": [
    "animals[0:2]+[\"верблюд\"]+animals[2:5]"
   ]
  },
  {
   "cell_type": "code",
   "execution_count": 71,
   "id": "random-ghana",
   "metadata": {},
   "outputs": [],
   "source": [
    "animals = animals[0:2]+[\"верблюд\"]+animals[2:5]"
   ]
  },
  {
   "cell_type": "code",
   "execution_count": 73,
   "id": "prescribed-danger",
   "metadata": {},
   "outputs": [
    {
     "data": {
      "text/plain": [
       "['жираф', 'слон', 'верблюд', 'носорог', 'обезьяна']"
      ]
     },
     "execution_count": 73,
     "metadata": {},
     "output_type": "execute_result"
    }
   ],
   "source": [
    "animals"
   ]
  },
  {
   "cell_type": "code",
   "execution_count": 74,
   "id": "rubber-transparency",
   "metadata": {},
   "outputs": [
    {
     "data": {
      "text/plain": [
       "['слон', 'носорог']"
      ]
     },
     "execution_count": 74,
     "metadata": {},
     "output_type": "execute_result"
    }
   ],
   "source": [
    "animals[1:4:2]"
   ]
  },
  {
   "cell_type": "code",
   "execution_count": 75,
   "id": "satisfied-owner",
   "metadata": {},
   "outputs": [
    {
     "data": {
      "text/plain": [
       "['жираф', 'обезьяна']"
      ]
     },
     "execution_count": 75,
     "metadata": {},
     "output_type": "execute_result"
    }
   ],
   "source": [
    "animals[0:5:4]"
   ]
  },
  {
   "cell_type": "code",
   "execution_count": 76,
   "id": "thorough-action",
   "metadata": {},
   "outputs": [
    {
     "data": {
      "text/plain": [
       "['жираф', 'слон', 'верблюд', 'носорог', 'обезьяна']"
      ]
     },
     "execution_count": 76,
     "metadata": {},
     "output_type": "execute_result"
    }
   ],
   "source": [
    "animals"
   ]
  },
  {
   "cell_type": "code",
   "execution_count": 77,
   "id": "religious-picture",
   "metadata": {},
   "outputs": [
    {
     "data": {
      "text/plain": [
       "['жираф', 'верблюд', 'обезьяна']"
      ]
     },
     "execution_count": 77,
     "metadata": {},
     "output_type": "execute_result"
    }
   ],
   "source": [
    "animals[0:5:2]"
   ]
  },
  {
   "cell_type": "code",
   "execution_count": 78,
   "id": "synthetic-supplement",
   "metadata": {},
   "outputs": [
    {
     "data": {
      "text/plain": [
       "5"
      ]
     },
     "execution_count": 78,
     "metadata": {},
     "output_type": "execute_result"
    }
   ],
   "source": [
    "len(animals)"
   ]
  },
  {
   "cell_type": "code",
   "execution_count": 79,
   "id": "isolated-spouse",
   "metadata": {},
   "outputs": [
    {
     "data": {
      "text/plain": [
       "int"
      ]
     },
     "execution_count": 79,
     "metadata": {},
     "output_type": "execute_result"
    }
   ],
   "source": [
    "type(len(animals))"
   ]
  },
  {
   "cell_type": "code",
   "execution_count": 82,
   "id": "preliminary-chrome",
   "metadata": {},
   "outputs": [
    {
     "data": {
      "text/plain": [
       "['жираф', 'слон', 'верблюд', 'носорог']"
      ]
     },
     "execution_count": 82,
     "metadata": {},
     "output_type": "execute_result"
    }
   ],
   "source": [
    "animals[0:len(animals)-1]"
   ]
  },
  {
   "cell_type": "code",
   "execution_count": 83,
   "id": "thermal-dinner",
   "metadata": {},
   "outputs": [
    {
     "data": {
      "text/plain": [
       "['жираф', 'слон', 'верблюд', 'носорог']"
      ]
     },
     "execution_count": 83,
     "metadata": {},
     "output_type": "execute_result"
    }
   ],
   "source": [
    "animals[0:-1]"
   ]
  },
  {
   "cell_type": "code",
   "execution_count": 84,
   "id": "rocky-monday",
   "metadata": {},
   "outputs": [
    {
     "data": {
      "text/plain": [
       "9"
      ]
     },
     "execution_count": 84,
     "metadata": {},
     "output_type": "execute_result"
    }
   ],
   "source": [
    "max(numbers)"
   ]
  },
  {
   "cell_type": "code",
   "execution_count": 86,
   "id": "infrared-skirt",
   "metadata": {},
   "outputs": [
    {
     "data": {
      "text/plain": [
       "1"
      ]
     },
     "execution_count": 86,
     "metadata": {},
     "output_type": "execute_result"
    }
   ],
   "source": [
    "min(numbers)"
   ]
  },
  {
   "cell_type": "code",
   "execution_count": 87,
   "id": "mature-athens",
   "metadata": {},
   "outputs": [
    {
     "data": {
      "text/plain": [
       "[0,\n",
       " 1,\n",
       " 2,\n",
       " 3,\n",
       " 4,\n",
       " 5,\n",
       " 6,\n",
       " 7,\n",
       " 8,\n",
       " 9,\n",
       " 10,\n",
       " 11,\n",
       " 12,\n",
       " 13,\n",
       " 14,\n",
       " 15,\n",
       " 16,\n",
       " 17,\n",
       " 18,\n",
       " 19,\n",
       " 20,\n",
       " 21,\n",
       " 22,\n",
       " 23,\n",
       " 24,\n",
       " 25,\n",
       " 26,\n",
       " 27,\n",
       " 28,\n",
       " 29]"
      ]
     },
     "execution_count": 87,
     "metadata": {},
     "output_type": "execute_result"
    }
   ],
   "source": [
    "list(range(0,30))"
   ]
  },
  {
   "cell_type": "code",
   "execution_count": 89,
   "id": "vital-equality",
   "metadata": {},
   "outputs": [
    {
     "data": {
      "text/plain": [
       "[0, 9, 18, 27]"
      ]
     },
     "execution_count": 89,
     "metadata": {},
     "output_type": "execute_result"
    }
   ],
   "source": [
    "list(range(0,30,9))"
   ]
  },
  {
   "cell_type": "code",
   "execution_count": 90,
   "id": "incident-voice",
   "metadata": {},
   "outputs": [
    {
     "data": {
      "text/plain": [
       "[0, 100, 200, 300, 400, 500, 600, 700, 800, 900, 1000]"
      ]
     },
     "execution_count": 90,
     "metadata": {},
     "output_type": "execute_result"
    }
   ],
   "source": [
    "list(range(0,1001,100))"
   ]
  },
  {
   "cell_type": "code",
   "execution_count": 92,
   "id": "compatible-bidder",
   "metadata": {},
   "outputs": [
    {
     "data": {
      "text/plain": [
       "[100, 200, 300, 400, 500, 600, 700, 800, 900, 1000]"
      ]
     },
     "execution_count": 92,
     "metadata": {},
     "output_type": "execute_result"
    }
   ],
   "source": [
    "list(range(100,1001,100))"
   ]
  },
  {
   "cell_type": "code",
   "execution_count": 93,
   "id": "smart-coast",
   "metadata": {},
   "outputs": [
    {
     "data": {
      "text/plain": [
       "[1, 3, 5, 7, 9, 11, 13, 15, 17]"
      ]
     },
     "execution_count": 93,
     "metadata": {},
     "output_type": "execute_result"
    }
   ],
   "source": [
    "list(range(1,18,2))"
   ]
  },
  {
   "cell_type": "code",
   "execution_count": 102,
   "id": "ultimate-dallas",
   "metadata": {},
   "outputs": [
    {
     "data": {
      "text/plain": [
       "[17, 15, 13, 11, 9, 7, 5, 3, 1]"
      ]
     },
     "execution_count": 102,
     "metadata": {},
     "output_type": "execute_result"
    }
   ],
   "source": [
    "list(range(17,0,-2))"
   ]
  },
  {
   "cell_type": "code",
   "execution_count": 104,
   "id": "broad-samoa",
   "metadata": {},
   "outputs": [
    {
     "data": {
      "text/plain": [
       "[17, 15, 13, 11, 9, 7, 5, 3, 1, -1, -3]"
      ]
     },
     "execution_count": 104,
     "metadata": {},
     "output_type": "execute_result"
    }
   ],
   "source": [
    "list(range(17,-5,-2))"
   ]
  },
  {
   "cell_type": "code",
   "execution_count": 105,
   "id": "consistent-examination",
   "metadata": {},
   "outputs": [
    {
     "name": "stdout",
     "output_type": "stream",
     "text": [
      "That is all for now. The third seminar is over!\n"
     ]
    }
   ],
   "source": [
    "print(\"That is all for now. The third seminar is over!\")"
   ]
  },
  {
   "cell_type": "code",
   "execution_count": 106,
   "id": "negative-pontiac",
   "metadata": {},
   "outputs": [
    {
     "name": "stdout",
     "output_type": "stream",
     "text": [
      "Thank you very much!\n"
     ]
    }
   ],
   "source": [
    "print(\"Thank you very much!\")"
   ]
  },
  {
   "cell_type": "code",
   "execution_count": 108,
   "id": "perfect-breach",
   "metadata": {},
   "outputs": [
    {
     "name": "stdout",
     "output_type": "stream",
     "text": [
      "Good bye! See you soon!\n"
     ]
    }
   ],
   "source": [
    "print(\"Good bye! See you soon!\")"
   ]
  },
  {
   "cell_type": "code",
   "execution_count": 111,
   "id": "photographic-batman",
   "metadata": {},
   "outputs": [
    {
     "name": "stdout",
     "output_type": "stream",
     "text": [
      "With love, Alexandra Chikunova\n"
     ]
    }
   ],
   "source": [
    "print(\"With love, Alexandra Chikunova\")"
   ]
  }
 ],
 "metadata": {
  "kernelspec": {
   "display_name": "Python 3",
   "language": "python",
   "name": "python3"
  },
  "language_info": {
   "codemirror_mode": {
    "name": "ipython",
    "version": 3
   },
   "file_extension": ".py",
   "mimetype": "text/x-python",
   "name": "python",
   "nbconvert_exporter": "python",
   "pygments_lexer": "ipython3",
   "version": "3.6.12"
  }
 },
 "nbformat": 4,
 "nbformat_minor": 5
}
